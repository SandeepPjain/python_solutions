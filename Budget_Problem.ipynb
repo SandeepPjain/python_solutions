{
 "cells": [
  {
   "cell_type": "code",
   "execution_count": 22,
   "metadata": {},
   "outputs": [],
   "source": [
    "\n",
    "def set_budget():\n",
    "    Set_Total_Budget = float(input(\"Total budget for the month \"))\n",
    "    return (Set_Total_Budget)"
   ]
  },
  {
   "cell_type": "code",
   "execution_count": 36,
   "metadata": {},
   "outputs": [],
   "source": [
    "def expenses_input():\n",
    "    # Category = input(\"Enter the category of the expense: \")\n",
    "    Expenses = float(input(\"Enter the total amount spent: \"))\n",
    "    return(Expenses)"
   ]
  },
  {
   "cell_type": "code",
   "execution_count": 38,
   "metadata": {},
   "outputs": [
    {
     "name": "stdout",
     "output_type": "stream",
     "text": [
      "Total Budget = 500.0, Amount Spent = 100.0 , Balance Remaining = 400.0\n"
     ]
    }
   ],
   "source": [
    "\n",
    "Expence_Tracker = []\n",
    "Remaining_Balance = Budget1 = set_budget()\n",
    "Daily_Expenses = expenses_input()\n",
    "if Remaining_Balance < Daily_Expenses:\n",
    "    print(\"Warning: You are trying to spend more than your remaining budget\")\n",
    "else:\n",
    "    Expence_Tracker = Expence_Tracker.extend([Daily_Expenses])\n",
    "    Remaining_Balance -= Daily_Expenses\n",
    "    print(f\"Total Budget = {Budget1}, Amount Spent = {Daily_Expenses} , Balance Remaining = {Remaining_Balance}\")\n",
    "\n",
    "\n",
    "\n",
    "\n"
   ]
  },
  {
   "cell_type": "code",
   "execution_count": null,
   "metadata": {},
   "outputs": [],
   "source": []
  },
  {
   "cell_type": "code",
   "execution_count": null,
   "metadata": {},
   "outputs": [],
   "source": [
    "def add():\n",
    "    Total_Expenses = 0\n",
    "    Total_Expenses += Daily_Expenses\n",
    "    Remaining_Balance = Remaining_Balance - Daily_Expenses\n",
    "    return(Total_Expenses,Remaining_Balance)"
   ]
  }
 ],
 "metadata": {
  "kernelspec": {
   "display_name": "Python 3",
   "language": "python",
   "name": "python3"
  },
  "language_info": {
   "codemirror_mode": {
    "name": "ipython",
    "version": 3
   },
   "file_extension": ".py",
   "mimetype": "text/x-python",
   "name": "python",
   "nbconvert_exporter": "python",
   "pygments_lexer": "ipython3",
   "version": "3.12.5"
  }
 },
 "nbformat": 4,
 "nbformat_minor": 2
}
