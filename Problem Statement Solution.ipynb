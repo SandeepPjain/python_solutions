{
 "cells": [
  {
   "cell_type": "code",
   "execution_count": null,
   "metadata": {},
   "outputs": [],
   "source": []
  },
  {
   "cell_type": "code",
   "execution_count": 14,
   "metadata": {},
   "outputs": [
    {
     "name": "stdout",
     "output_type": "stream",
     "text": [
      "Studetn Grade is A\n"
     ]
    }
   ],
   "source": [
    "Percent = float(input(\"Enter student's score as a percentage \"))\n",
    "\n",
    "if Percent < 60:\n",
    "    print(\"Stuent Grade is F\")\n",
    "elif Percent >= 60.00 and Percent < 69.99:\n",
    "    print(\"Student Grade is D\")\n",
    "elif Percent >=70.00 and  Percent < 79.99:\n",
    "    print(\"Student Grade is C\")\n",
    "elif Percent >=80.00 and  Percent < 89.99:\n",
    "    print(\"Student Grade is B\")\n",
    "else: \n",
    "    print(\"Studetn Grade is A\")\n"
   ]
  },
  {
   "cell_type": "code",
   "execution_count": 15,
   "metadata": {},
   "outputs": [
    {
     "name": "stdout",
     "output_type": "stream",
     "text": [
      "The want table for 5 upto 20 .\n",
      "5 x 0 = 0\n",
      "5 x 1 = 5\n",
      "5 x 2 = 10\n",
      "5 x 3 = 15\n",
      "5 x 4 = 20\n",
      "5 x 5 = 25\n",
      "5 x 6 = 30\n",
      "5 x 7 = 35\n",
      "5 x 8 = 40\n",
      "5 x 9 = 45\n",
      "5 x 10 = 50\n",
      "5 x 11 = 55\n",
      "5 x 12 = 60\n",
      "5 x 13 = 65\n",
      "5 x 14 = 70\n",
      "5 x 15 = 75\n",
      "5 x 16 = 80\n",
      "5 x 17 = 85\n",
      "5 x 18 = 90\n",
      "5 x 19 = 95\n",
      "5 x 20 = 100\n"
     ]
    }
   ],
   "source": [
    "number = int(input('Enter a number for which they want the multiplication table.: '))\n",
    "number2 = int(input('Enter a range up to which the table should be generated.: '))\n",
    "print(f'The want table for {number} upto {number2} .')\n",
    "\n",
    "i = 0\n",
    "while i<=number2:\n",
    "    print(('%d x %d = %d' %(number, i, number*i)))\n",
    "    i+=1"
   ]
  },
  {
   "cell_type": "code",
   "execution_count": 27,
   "metadata": {},
   "outputs": [
    {
     "name": "stdout",
     "output_type": "stream",
     "text": [
      "23\n",
      "Your guess is wrong\n",
      "Your guess is wrong\n",
      "Your guess is correct and guessed in 3 attempts\n"
     ]
    }
   ],
   "source": [
    "import random\n",
    "\n",
    "random_number = random.randint(1,100)\n",
    "print(random_number)\n",
    "count = 1\n",
    "while count <= 5:\n",
    "    guess = int(input(\"Enter your Guess number: \"))\n",
    "    if random_number == guess:\n",
    "        if count == 1:\n",
    "            print(f\"Your guess is correct and guessed in first attempt\")\n",
    "            break\n",
    "        else:\n",
    "            print(f\"Your guess is correct and guessed in {count} attempts\")\n",
    "            break\n",
    "    else:\n",
    "        print(\"Your guess is wrong\")\n",
    "        count += 1\n",
    "else:\n",
    "    print(\"Your are failed to  guessed the number.\")\n",
    "    print(f\"The corrrect number is {random_number}\")"
   ]
  },
  {
   "cell_type": "code",
   "execution_count": 12,
   "metadata": {},
   "outputs": [
    {
     "name": "stdout",
     "output_type": "stream",
     "text": [
      "[]\n",
      "[23, 34, 45, 56]\n",
      "158\n"
     ]
    }
   ],
   "source": [
    "list1 = []\n",
    "print(list1)\n",
    "list1.extend([23,34,45,56])\n",
    "print(list1)\n",
    "list_add = 0\n",
    "for i in range(len(list1)):\n",
    "    list_add += list1[i]\n",
    "print(list_add)"
   ]
  }
 ],
 "metadata": {
  "kernelspec": {
   "display_name": "Python 3",
   "language": "python",
   "name": "python3"
  },
  "language_info": {
   "codemirror_mode": {
    "name": "ipython",
    "version": 3
   },
   "file_extension": ".py",
   "mimetype": "text/x-python",
   "name": "python",
   "nbconvert_exporter": "python",
   "pygments_lexer": "ipython3",
   "version": "3.12.5"
  }
 },
 "nbformat": 4,
 "nbformat_minor": 2
}
